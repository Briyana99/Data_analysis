{
 "cells": [
  {
   "cell_type": "markdown",
   "id": "b841e961",
   "metadata": {},
   "source": [
    "# Data Analysis"
   ]
  },
  {
   "cell_type": "code",
   "execution_count": null,
   "id": "51253f7a",
   "metadata": {},
   "outputs": [],
   "source": [
    "import pandas as pd\n",
    "import numpy as np\n",
    "import seaborn as sns\n",
    "import matplotlib.pyplot as plt"
   ]
  },
  {
   "cell_type": "code",
   "execution_count": null,
   "id": "74be8220",
   "metadata": {},
   "outputs": [],
   "source": [
    "df = pd.read_csv(\"C:\\\\Users\\\\ranab\\\\OneDrive\\\\Documents\\\\Briyana_Academic\\\\Weather_Prediction\\\\weatherhistory_5.csv\")"
   ]
  },
  {
   "cell_type": "code",
   "execution_count": null,
   "id": "57c91f4c",
   "metadata": {},
   "outputs": [],
   "source": [
    "df.head(5)"
   ]
  },
  {
   "cell_type": "code",
   "execution_count": null,
   "id": "1e40b168",
   "metadata": {},
   "outputs": [],
   "source": [
    "df.shape"
   ]
  },
  {
   "cell_type": "code",
   "execution_count": null,
   "id": "030ee1d1",
   "metadata": {},
   "outputs": [],
   "source": [
    "df=df.iloc[1000:80000,:]"
   ]
  },
  {
   "cell_type": "code",
   "execution_count": null,
   "id": "4c311b8d",
   "metadata": {},
   "outputs": [],
   "source": [
    "sns.boxplot(df['Temperature (C)'])"
   ]
  },
  {
   "cell_type": "code",
   "execution_count": null,
   "id": "6abc87b2",
   "metadata": {},
   "outputs": [],
   "source": [
    "X=df['Temperature (C)']\n",
    "Y = df['Precip Type']"
   ]
  },
  {
   "cell_type": "code",
   "execution_count": null,
   "id": "3f015717",
   "metadata": {},
   "outputs": [],
   "source": [
    "sns.barplot(df['Precip Type'],df['Temperature (C)'])"
   ]
  },
  {
   "cell_type": "code",
   "execution_count": null,
   "id": "279b085c",
   "metadata": {},
   "outputs": [],
   "source": [
    "df.corr()"
   ]
  },
  {
   "cell_type": "code",
   "execution_count": null,
   "id": "1170131d",
   "metadata": {},
   "outputs": [],
   "source": [
    "sns.lineplot(data=df, y=\"Precip Type\", x=\"Pressure (millibars)\", hue=\"Precip Type\", style=\"Precip Type\")"
   ]
  },
  {
   "cell_type": "code",
   "execution_count": null,
   "id": "1709be0f",
   "metadata": {},
   "outputs": [],
   "source": [
    "#C:\\Users\\ranab\\OneDrive\\Documents\\PROJECT_SDM\n",
    "df1 = pd.read_csv(\"C:\\\\Users\\\\ranab\\\\OneDrive\\\\Documents\\\\Briyana_Academic\\\\Weather_Prediction\\\\Preprocessed_data.csv\")"
   ]
  },
  {
   "cell_type": "code",
   "execution_count": null,
   "id": "172e25e8",
   "metadata": {},
   "outputs": [],
   "source": [
    "df1.head(5)"
   ]
  },
  {
   "cell_type": "code",
   "execution_count": null,
   "id": "7502e2c6",
   "metadata": {},
   "outputs": [],
   "source": [
    "df1.shape"
   ]
  },
  {
   "cell_type": "code",
   "execution_count": null,
   "id": "9d9132c2",
   "metadata": {},
   "outputs": [],
   "source": [
    "df1['Precip Type'].value_counts()"
   ]
  },
  {
   "cell_type": "code",
   "execution_count": null,
   "id": "7248caf9",
   "metadata": {},
   "outputs": [],
   "source": [
    "sns.barplot(data=df1, x=\"Summary\", y=\"Temperature (C)\",hue = 'Precip Type')"
   ]
  },
  {
   "cell_type": "code",
   "execution_count": null,
   "id": "b61e06b6",
   "metadata": {},
   "outputs": [],
   "source": [
    "plt.pie(df1['Precip Type'])\n",
    "plt.show()"
   ]
  },
  {
   "cell_type": "code",
   "execution_count": null,
   "id": "e69df76b",
   "metadata": {},
   "outputs": [],
   "source": [
    "sns.barplot(df1['Precip Type'],df1['Temperature (C)'])"
   ]
  },
  {
   "cell_type": "code",
   "execution_count": null,
   "id": "98930fb6",
   "metadata": {},
   "outputs": [],
   "source": [
    "ax = sns.countplot(x=\"Summary\",hue='Precip Type', data=df1)\n",
    "\n",
    "ax.set_xticklabels(ax.get_xticklabels(), fontsize=3\n",
    "                  )\n",
    "#plt.tight_layout()\n",
    "plt.show()"
   ]
  },
  {
   "cell_type": "code",
   "execution_count": null,
   "id": "341beff7",
   "metadata": {},
   "outputs": [],
   "source": [
    "sns.FacetGrid(df1, hue=\"Precip Type\", height=10).map(sns.distplot, \"Humidity\").add_legend()\n",
    "plt.show()"
   ]
  },
  {
   "cell_type": "code",
   "execution_count": null,
   "id": "3738dc58",
   "metadata": {},
   "outputs": [],
   "source": [
    "sns.FacetGrid(df1, hue=\"Precip Type\", height=10).map(sns.distplot, \"Summary\").add_legend()\n",
    "plt.show()"
   ]
  },
  {
   "cell_type": "code",
   "execution_count": null,
   "id": "e0b7f49a",
   "metadata": {},
   "outputs": [],
   "source": [
    "sns.FacetGrid(df1, hue=\"Precip Type\", height=10).map(sns.distplot, \"Pressure (millibars)\").add_legend()\n",
    "plt.show()"
   ]
  },
  {
   "cell_type": "code",
   "execution_count": null,
   "id": "e0bbcc89",
   "metadata": {},
   "outputs": [],
   "source": [
    "sns.FacetGrid(df1, hue=\"Precip Type\", height=10).map(sns.distplot, \"Temperature (C)\").add_legend()\n",
    "plt.show()"
   ]
  },
  {
   "cell_type": "code",
   "execution_count": null,
   "id": "e1ca30bf",
   "metadata": {},
   "outputs": [],
   "source": [
    "sns.FacetGrid(df1, hue=\"Summary\", height=10).map(sns.distplot, \"Precip Type\").add_legend()\n",
    "plt.show()"
   ]
  },
  {
   "cell_type": "code",
   "execution_count": null,
   "id": "161df96e",
   "metadata": {},
   "outputs": [],
   "source": [
    "for i in df.iterrows():\n",
    "    print(i)"
   ]
  },
  {
   "cell_type": "code",
   "execution_count": null,
   "id": "bc9482e8",
   "metadata": {},
   "outputs": [],
   "source": [
    "df4=pd.DataFrame(df1.groupby(\"Formatted Date\")[\"Wind Speed (km/h)\"].mean())\n",
    "df4"
   ]
  },
  {
   "cell_type": "code",
   "execution_count": null,
   "id": "7f2c8bb8",
   "metadata": {},
   "outputs": [],
   "source": [
    "fig,ax=plt.subplots(figsize=(10,8))\n",
    "sns.lineplot(y=df4[\"Wind Speed (km/h)\"])\n",
    "plt.title(\"Average wind speed over the years\")"
   ]
  },
  {
   "cell_type": "code",
   "execution_count": null,
   "id": "523f3549",
   "metadata": {},
   "outputs": [],
   "source": [
    "fig, ax = plt.subplots(1, 1)\n",
    "ax.hist(df1, density=True, histtype='stepfilled', alpha=0.2)\n",
    "#ax.legend(loc='best', frameon=False)\n",
    "plt.show()"
   ]
  },
  {
   "cell_type": "code",
   "execution_count": null,
   "id": "c1407627",
   "metadata": {},
   "outputs": [],
   "source": [
    "plt.figure(figsize=(12,7))\n",
    "plt.xticks(rotation=90)\n",
    "sns.barplot(data=df1, x=\"Summary\", y=\"Temperature (C)\",hue=\"Precip Type\")"
   ]
  },
  {
   "cell_type": "code",
   "execution_count": null,
   "id": "20bac963",
   "metadata": {},
   "outputs": [],
   "source": [
    "sns.boxplot(df1['Temperature (C)'],df1['Precip Type'])"
   ]
  },
  {
   "cell_type": "code",
   "execution_count": null,
   "id": "d94621f2",
   "metadata": {},
   "outputs": [],
   "source": [
    "l=[]\n",
    "for line in df1['Formatted Date']:\n",
    "    l.append(line.strip()[0:4])\n",
    "print(l)"
   ]
  },
  {
   "cell_type": "code",
   "execution_count": null,
   "id": "218abc6f",
   "metadata": {},
   "outputs": [],
   "source": [
    "sns.barplot(df1['Humidity'],l)"
   ]
  },
  {
   "cell_type": "code",
   "execution_count": null,
   "id": "f249d9fa",
   "metadata": {},
   "outputs": [],
   "source": [
    "year_avg_temp=pd.DataFrame(df1.groupby(l)[\"Temperature (C)\"].mean())\n",
    "year_avg_temp\n"
   ]
  },
  {
   "cell_type": "code",
   "execution_count": null,
   "id": "487c6b20",
   "metadata": {},
   "outputs": [],
   "source": [
    "fig,ax=plt.subplots(figsize=(10,8))\n",
    "sns.lineplot(x=year_avg_temp.index,y=year_avg_temp[\"Visibility\"])\n",
    "plt.title(\"Annual avg. temperature\")"
   ]
  },
  {
   "cell_type": "code",
   "execution_count": null,
   "id": "68637310",
   "metadata": {},
   "outputs": [],
   "source": [
    "plt.figure()\n",
    "cor = df1.corr()\n",
    "sns.set(rc={'figure.figsize':(20,10)})\n",
    "sns.heatmap(cor,annot=True)\n",
    "plt.show()"
   ]
  },
  {
   "cell_type": "code",
   "execution_count": null,
   "id": "62cb1433",
   "metadata": {},
   "outputs": [],
   "source": []
  },
  {
   "cell_type": "code",
   "execution_count": null,
   "id": "23293c60",
   "metadata": {},
   "outputs": [],
   "source": []
  }
 ],
 "metadata": {
  "kernelspec": {
   "display_name": "Python 3 (ipykernel)",
   "language": "python",
   "name": "python3"
  },
  "language_info": {
   "codemirror_mode": {
    "name": "ipython",
    "version": 3
   },
   "file_extension": ".py",
   "mimetype": "text/x-python",
   "name": "python",
   "nbconvert_exporter": "python",
   "pygments_lexer": "ipython3",
   "version": "3.9.7"
  }
 },
 "nbformat": 4,
 "nbformat_minor": 5
}
